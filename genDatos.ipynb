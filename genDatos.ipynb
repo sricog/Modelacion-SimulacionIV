{
 "cells": [
  {
   "cell_type": "code",
   "execution_count": 3,
   "metadata": {},
   "outputs": [],
   "source": [
    "import pandas as pd\n",
    "import numpy as np\n",
    "# Se cambio que el numero de clases ya no es parametro\n",
    "# Ojo que si establecemos los bins fijos, no hay que sumar el dato minimo\n",
    "def create_freq_dist_table2(data,bins):\n",
    "    min_data = data[0].min()\n",
    "    min_data_ocurr = data[0].value_counts()[min_data]\n",
    "    max_data = data[0].max()\n",
    "    range_data = max_data - min_data\n",
    "    data['class'] = pd.cut(data[0],bins=bins)\n",
    "    data = data.groupby(\"class\")[0].count().to_frame(name=\"abs_freq\")\n",
    "    # data.iloc[0][\"abs_freq\"] += min_data_ocurr\n",
    "    data[\"rel_freq\"] = data.abs_freq/data.abs_freq.sum()\n",
    "    data[\"cum_abs_freq\"] = data.abs_freq.cumsum()\n",
    "    data[\"cum_rel_freq\"] = data[\"rel_freq\"].cumsum()\n",
    "    data = data.reset_index()\n",
    "    data['class_mark'] = data['class'].apply(lambda x: (x.left+x.right)/2)\n",
    "    # cols = data.columns.tolist()    TODO\n",
    "    # cols = cols[-1:] + cols[:-1]    TODO\n",
    "    return data\n",
    "\n",
    "def data_from_table(table):\n",
    "    media = round(sum(table.apply(lambda x:(x['rel_freq']*x['class_mark']),axis=1)),6)\n",
    "    std = round(np.sqrt(sum(table.apply(lambda row:((row['class_mark']-media)**2)*row['abs_freq'],axis = 1))/table.iloc[-1,3]),6)\n",
    "    std1 = np.sqrt(sum(table.apply(lambda row:((row['class_mark']-media)**2)*row['abs_freq'],axis = 1))/(table.iloc[-1,3]-1))\n",
    "    asim = sum(table.apply(lambda row:((row['class_mark']-media)**3)*row['abs_freq'],axis = 1))/(table.iloc[-1,3]*(std1**3))\n",
    "    kurt = (sum(table.apply(lambda row:((row['class_mark']-media)**4)*row['abs_freq'],axis = 1))/(table.iloc[-1,3]*(std1**4)))-3\n",
    "    quantile_25 = percentile(25,table)\n",
    "    quantile_50 = percentile(50,table)\n",
    "    quantile_75 = percentile(75,table)\n",
    "    min=table.iloc[0,0].left\n",
    "    max=table.iloc[-1,0].right\n",
    "    return pd.Series([media,std,min,quantile_25,quantile_50,quantile_75,max,asim,kurt])\n",
    "\n",
    "# Genera datos aleatorios, con la misma distribucion de los datos originales\n",
    "def generate_data(freq_table,k):\n",
    "    gen_data = pd.Series(dtype='float64')\n",
    "    n_data_bef = freq_table.iloc[-1][\"cum_abs_freq\"]\n",
    "    intervals, freq_bef = freq_table[\"class\"], freq_table[\"rel_freq\"]\n",
    "    for i in range(len(intervals)):\n",
    "        data_numb = int(round(freq_bef.iloc[i]*k,0))\n",
    "        low_bound = intervals.iloc[i].left\n",
    "        high_bound = intervals.iloc[i].right\n",
    "        gen_data = pd.concat([gen_data,pd.Series(np.random.uniform(low_bound,high_bound,data_numb))])\n",
    "    return pd.DataFrame(gen_data)\n",
    " \n",
    "def percentile(q, table):\n",
    "    n = max(table['cum_abs_freq'])\n",
    "    index = (q/100)*n\n",
    "    condition = table['cum_abs_freq'] >= index\n",
    "    row =  condition.idxmax()\n",
    "    Li = table['class'].iloc[row].left\n",
    "    len_interval = table['class'].iloc[row].length\n",
    "    Ni = table['abs_freq'].iloc[row]\n",
    "    j = index - table['cum_abs_freq'].iloc[row-1]\n",
    "    return (Li + len_interval*(j/Ni))\n",
    "\n",
    "def data_from_histogram(num_data, lim_inf,lim_sup,lista):\n",
    "  for i in range(num_data):\n",
    "    lista.append(np.random.uniform(lim_inf,lim_sup))\n",
    "  return lista"
   ]
  },
  {
   "cell_type": "code",
   "execution_count": 4,
   "metadata": {},
   "outputs": [
    {
     "name": "stdout",
     "output_type": "stream",
     "text": [
      "                             data\n",
      "0               Media  167.155172\n",
      "1  Standard Deviation    8.400640\n",
      "2             Minimum  150.000000\n",
      "3                 25%  160.250000\n",
      "4                 50%  167.083333\n",
      "5                 75%  173.750000\n",
      "6             Maximum  185.000000\n",
      "7                Skew    0.061712\n",
      "8            Kurtosis   -1.071144\n",
      "El percentil 40 es: 164.6\n",
      "                          data\n",
      "                              \n",
      "Media               167.155000\n",
      "Standard Deviation    8.401248\n",
      "Minimum             150.000000\n",
      "25%                 160.249420\n",
      "50%                 167.083132\n",
      "75%                 173.750000\n",
      "Maximum             185.000000\n",
      "Skew                  0.065074\n",
      "Kurtosis             -0.931313\n",
      "164.5997679814385\n"
     ]
    },
    {
     "data": {
      "image/png": "[encoded data removed]",
      "text/plain": [
       "<Figure size 432x288 with 1 Axes>"
      ]
     },
     "metadata": {
      "needs_background": "light"
     },
     "output_type": "display_data"
    },
    {
     "data": {
      "image/png": "[encoded data removed]",
      "text/plain": [
       "<Figure size 432x288 with 1 Axes>"
      ]
     },
     "metadata": {
      "needs_background": "light"
     },
     "output_type": "display_data"
    }
   ],
   "source": [
    "def main():\n",
    "    lista = []\n",
    "    lista = data_from_histogram(2,150,155,lista)\n",
    "    lista = data_from_histogram(5,155,160,lista)\n",
    "    lista = data_from_histogram(5,160,165,lista)\n",
    "    lista = data_from_histogram(6,165,170,lista)\n",
    "    lista = data_from_histogram(5,170,175,lista)\n",
    "    lista = data_from_histogram(4,175,180,lista)\n",
    "    lista = data_from_histogram(2,180,185,lista)\n",
    "    data2 = pd.Series(lista)\n",
    "    #Vamos a generar los datos como la tabla dada.\n",
    "    data = pd.DataFrame(data2)\n",
    "    bins = range(150,186,5)\n",
    "    data.hist(bins = bins)\n",
    "    table = create_freq_dist_table2(data, bins)\n",
    "    stats = data_from_table(table)\n",
    "    d = pd.DataFrame({'': ['Media','Standard Deviation','Minimum','25%','50%','75%','Maximum','Skew','Kurtosis'],\"data\":stats})\n",
    "    print(d) # -> Median = 167.08\n",
    "    q40 = percentile(40,table)\n",
    "    print(f\"El percentil 40 es: {q40}\") # -> Percentile 40 = 164.6; prestamo denegado\n",
    "    datos_generados = generate_data(table,10000)\n",
    "    datos_generados.hist(bins = bins)\n",
    "    table2 = create_freq_dist_table2(datos_generados, bins)\n",
    "    stats2 = data_from_table(table2)\n",
    "    d2 = pd.DataFrame({'': ['Media','Standard Deviation','Minimum','25%','50%','75%','Maximum','Skew','Kurtosis'],\"data\":stats2}).set_index('')\n",
    "    print(d2) # -> Median = 167.08\n",
    "    q40_simulated = percentile(40,table2)\n",
    "    print(q40_simulated) # -> Percentile 40 = 164.6; prestamo denegado\n",
    "main()"
   ]
  }
 ],
 "metadata": {
  "kernelspec": {
   "display_name": "Python 3",
   "language": "python",
   "name": "python3"
  },
  "language_info": {
   "codemirror_mode": {
    "name": "ipython",
    "version": 3
   },
   "file_extension": ".py",
   "mimetype": "text/x-python",
   "name": "python",
   "nbconvert_exporter": "python",
   "pygments_lexer": "ipython3",
   "version": "3.9.13"
  },
  "orig_nbformat": 4
 },
 "nbformat": 4,
 "nbformat_minor": 2
}
