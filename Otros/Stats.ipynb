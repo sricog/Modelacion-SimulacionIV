{
 "cells": [
  {
   "cell_type": "code",
   "execution_count": 17,
   "id": "40518861",
   "metadata": {},
   "outputs": [],
   "source": [
    "import warnings\n",
    " \n",
    "import pandas as pd\n",
    "import numpy as np\n",
    "warnings.filterwarnings('ignore')\n",
    "def organize_data(raw_data):\n",
    "    if isinstance(raw_data,pd.core.series.Series):\n",
    "        return pd.DataFrame(raw_data)\n",
    "    print(\"Enter 0 for xlsx. 1 for csv\")\n",
    "    choice = int(input())\n",
    "    if choice:\n",
    "        df =pd.DataFrame(pd.read_csv(raw_data)['Other'].dropna())\n",
    "        df.columns = range(len(df.columns))\n",
    "        return df\n",
    "    else:\n",
    "        raw_data = pd.read_excel(raw_data,header=None)    \n",
    "    if len(raw_data.columns) > 1:\n",
    "        print(f\"Seems that you have more than one column {list(raw_data.columns)}... Press enter if you want to drop all except the 1st.\")\n",
    "        print(f\"Write \\'all\\' if you want to work with all columns. Else, enter the columns you want to work with (E.g 0 1 2)\")\n",
    "        choice = input()\n",
    "        if not choice:\n",
    "            return raw_data.squeeze()\n",
    "        elif choice=='all':\n",
    "            columns = list(raw_data.columns)\n",
    "            data = raw_data[0].squeeze()\n",
    "        else:\n",
    "            choice = list(map(int,choice.split()))\n",
    "            columns = list(raw_data.columns)\n",
    "            drop = [x for x in columns if x not in choice]\n",
    "            raw_data = raw_data.drop(axis=1,columns=drop)\n",
    "            raw_data.columns = range(raw_data.columns.size)\n",
    "            columns = list(raw_data.columns)\n",
    "            data = raw_data[0].squeeze()\n",
    "        if len(columns) > 1:\n",
    "            for column in columns[1:]:\n",
    "                data = pd.concat([data,raw_data[column].squeeze()])\n",
    "    return pd.DataFrame(data)        \n",
    " \n",
    "def gen_raw_data(): #edit this file if you want personalized raw data\n",
    "    return pd.DataFrame(pd.concat([pd.Series(np.random.standard_normal(800)),pd.Series(np.random.exponential(4,200))]))\n",
    " \n",
    "# Crea una tabla de frecuencia de los datos. \n",
    "def create_freq_dist_table(data, number_classes):\n",
    "    min_data = data[0].min()\n",
    "    min_data_ocurr = data[0].value_counts()[min_data]\n",
    "    max_data = data[0].max()\n",
    "    range_data = max_data - min_data\n",
    "    class_width = float(range_data/number_classes)\n",
    "    bins = np.arange(min_data,max_data+class_width,class_width)\n",
    "    data['class'] = pd.cut(data[0],bins=bins)\n",
    "    data = data.groupby(\"class\")[0].count().to_frame(name=\"abs_freq\")\n",
    "    data.iloc[0][\"abs_freq\"] += min_data_ocurr\n",
    "    data[\"rel_freq\"] = data.abs_freq/data.abs_freq.sum()\n",
    "    data[\"cum_abs_freq\"] = data.abs_freq.cumsum()\n",
    "    data[\"cum_rel_freq\"] = data[\"rel_freq\"].cumsum()\n",
    "    data = data.reset_index()\n",
    "    data['class_mark'] = data['class'].apply(lambda x: (x.left+x.right)/2)\n",
    "    # cols = data.columns.tolist()    TODO\n",
    "    # cols = cols[-1:] + cols[:-1]    TODO\n",
    "    return data,bins\n",
    " \n",
    "# Genera datos aleatorios, con la misma distribucion de los datos originales\n",
    "def generate_data(freq_table,k):\n",
    "    gen_data = pd.Series(dtype='float64')\n",
    "    n_data_bef = freq_table.iloc[-1][\"cum_abs_freq\"]\n",
    "    intervals, freq_bef = freq_table[\"class\"], freq_table[\"rel_freq\"]\n",
    "    for i in range(len(intervals)):\n",
    "        data_numb = int(round(freq_bef.iloc[i]*k,0))\n",
    "        low_bound = intervals.iloc[i].left\n",
    "        high_bound = intervals.iloc[i].right\n",
    "        gen_data = pd.concat([gen_data,pd.Series(np.random.uniform(low_bound,high_bound,data_numb))])\n",
    "    return pd.DataFrame(gen_data)\n",
    " \n",
    "def get_percentile(raw_data, syn_data):\n",
    "    percentile_d = []\n",
    "    percentile_s = []\n",
    "    for i in range(5,995,5):\n",
    "        percentile_d.append(raw_data.quantile(i/1000))\n",
    "        percentile_s.append(syn_data.quantile(i/1000))\n",
    "    return percentile_d, percentile_s\n",
    "# Saca los estadisticos desde la tabla de frecuencia \n",
    "def data_from_table(table):\n",
    "    media = round(sum(table.apply(lambda x:(x['rel_freq']*x['class_mark']),axis=1)),6)\n",
    "    std = round(np.sqrt(sum(table.apply(lambda row:((row['class_mark']-media)**2)*row['abs_freq'],axis = 1))/table.iloc[-1,3]),6)\n",
    "    std1 = np.sqrt(sum(table.apply(lambda row:((row['class_mark']-media)**2)*row['abs_freq'],axis = 1))/(table.iloc[-1,3]-1))\n",
    "    asim = sum(table.apply(lambda row:((row['class_mark']-media)**3)*row['abs_freq'],axis = 1))/(table.iloc[-1,3]*(std1**3))\n",
    "    kurt = (sum(table.apply(lambda row:((row['class_mark']-media)**4)*row['abs_freq'],axis = 1))/(table.iloc[-1,3]*(std1**4)))-3\n",
    "    quantile_25 = quantile(25,table)\n",
    "    quantile_50 = quantile(50,table)\n",
    "    quantile_75 = quantile(75,table)\n",
    "    min=table.iloc[0,0].left\n",
    "    max=table.iloc[-1,0].right\n",
    "    return pd.Series([media,std,min,quantile_25,quantile_50,quantile_75,max,asim,kurt])\n",
    " \n",
    "def quantile(q, table):\n",
    "    n = max(table['cum_abs_freq'])\n",
    "    index = (q/100)*n\n",
    "    condition = table['cum_abs_freq'] >= index\n",
    "    row =  condition.idxmax()\n",
    "    Li = table['class'].iloc[row].left\n",
    "    len_interval = table['class'].iloc[row].length\n",
    "    Ni = table['abs_freq'].iloc[row]\n",
    "    j = index - table['cum_abs_freq'].iloc[row-1]\n",
    "    return (Li + len_interval*(j/Ni))\n",
    " \n",
    "def main(): \n",
    "    if (input(\"Enter if file, another key if generated raw data\")== \"\"):\n",
    "        print('Give me your file (csv or xlsx) and the number of classes. Remember to upload the file to this folder.')\n",
    "        raw_data = input(\"File: \")\n",
    "        raw_data = organize_data(raw_data)\n",
    "    else:\n",
    "        raw_data = gen_raw_data()\n",
    "    number_classes = int(round(np.sqrt((len(raw_data))),0))\n",
    "    freq_table, data_bins = create_freq_dist_table(raw_data,number_classes)\n",
    "    synthetic = generate_data(freq_table,int(input(\"Number of synthetic data: \")))\n",
    "    data_stats= raw_data.describe().iloc[1:].append([raw_data.skew()[0],raw_data.kurtosis()[0]]).reset_index()\n",
    "    synt_stats = synthetic.describe().iloc[1:].append([synthetic.skew()[0],synthetic.kurtosis()[0]]).reset_index()\n",
    "    syn_table, syn_bins = create_freq_dist_table(synthetic,number_classes)\n",
    "    data_p, syn_p = get_percentile(raw_data,synthetic)\n",
    "    statistics_from_table = data_from_table(freq_table)\n",
    "    raw_data.columns = ['Histograma de Frecuencias de Datos Crudos', 'class']\n",
    "    synthetic.columns = ['Histograma de Frecuencias de Datos Simulados', 'class']\n",
    "    \n",
    "    return freq_table, data_bins, data_stats, synt_stats,synthetic,raw_data, syn_table, syn_bins,data_p, syn_p, statistics_from_table\n",
    " \n",
    " \n",
    " \n",
    " \n",
    "table, data_bins, data_stats, synt_stats, synthetic_data, raw_data, syn_table, syn_bins, data_p, syn_p, statistics_table= main()\n",
    " \n",
    " \n",
    "d = pd.DataFrame({'': ['Media','Standard Deviation','Minimum','25%','50%','75%','Maximum','Skew','Kurtosis'],\"raw_data\":data_stats[0], \"synthetic_data\":synt_stats[0], 'freq_table_data':statistics_table})"
   ]
  },
  {
   "cell_type": "code",
   "execution_count": 19,
   "id": "65720a12",
   "metadata": {},
   "outputs": [
    {
     "data": {
      "text/html": [
       "<div>\n",
       "<style scoped>\n",
       "    .dataframe tbody tr th:only-of-type {\n",
       "        vertical-align: middle;\n",
       "    }\n",
       "\n",
       "    .dataframe tbody tr th {\n",
       "        vertical-align: top;\n",
       "    }\n",
       "\n",
       "    .dataframe thead th {\n",
       "        text-align: right;\n",
       "    }\n",
       "</style>\n",
       "<table border=\"1\" class=\"dataframe\">\n",
       "  <thead>\n",
       "    <tr style=\"text-align: right;\">\n",
       "      <th></th>\n",
       "      <th></th>\n",
       "      <th>raw_data</th>\n",
       "      <th>synthetic_data</th>\n",
       "      <th>freq_table_data</th>\n",
       "    </tr>\n",
       "  </thead>\n",
       "  <tbody>\n",
       "    <tr>\n",
       "      <th>0</th>\n",
       "      <td>Media</td>\n",
       "      <td>0.815294</td>\n",
       "      <td>0.594242</td>\n",
       "      <td>0.811958</td>\n",
       "    </tr>\n",
       "    <tr>\n",
       "      <th>1</th>\n",
       "      <td>Standard Deviation</td>\n",
       "      <td>2.512764</td>\n",
       "      <td>1.914036</td>\n",
       "      <td>2.535507</td>\n",
       "    </tr>\n",
       "    <tr>\n",
       "      <th>2</th>\n",
       "      <td>Minimum</td>\n",
       "      <td>-3.114701</td>\n",
       "      <td>-2.893536</td>\n",
       "      <td>-3.115000</td>\n",
       "    </tr>\n",
       "    <tr>\n",
       "      <th>3</th>\n",
       "      <td>25%</td>\n",
       "      <td>-0.487389</td>\n",
       "      <td>-0.576713</td>\n",
       "      <td>-0.518235</td>\n",
       "    </tr>\n",
       "    <tr>\n",
       "      <th>4</th>\n",
       "      <td>50%</td>\n",
       "      <td>0.341853</td>\n",
       "      <td>0.287685</td>\n",
       "      <td>0.332605</td>\n",
       "    </tr>\n",
       "    <tr>\n",
       "      <th>5</th>\n",
       "      <td>75%</td>\n",
       "      <td>1.276980</td>\n",
       "      <td>1.289209</td>\n",
       "      <td>1.351408</td>\n",
       "    </tr>\n",
       "    <tr>\n",
       "      <th>6</th>\n",
       "      <td>Maximum</td>\n",
       "      <td>22.806025</td>\n",
       "      <td>8.988761</td>\n",
       "      <td>23.616000</td>\n",
       "    </tr>\n",
       "    <tr>\n",
       "      <th>7</th>\n",
       "      <td>Skew</td>\n",
       "      <td>3.412193</td>\n",
       "      <td>1.674045</td>\n",
       "      <td>3.334861</td>\n",
       "    </tr>\n",
       "    <tr>\n",
       "      <th>8</th>\n",
       "      <td>Kurtosis</td>\n",
       "      <td>18.081247</td>\n",
       "      <td>4.367415</td>\n",
       "      <td>17.342436</td>\n",
       "    </tr>\n",
       "  </tbody>\n",
       "</table>\n",
       "</div>"
      ],
      "text/plain": [
       "                        raw_data  synthetic_data  freq_table_data\n",
       "0               Media   0.815294        0.594242         0.811958\n",
       "1  Standard Deviation   2.512764        1.914036         2.535507\n",
       "2             Minimum  -3.114701       -2.893536        -3.115000\n",
       "3                 25%  -0.487389       -0.576713        -0.518235\n",
       "4                 50%   0.341853        0.287685         0.332605\n",
       "5                 75%   1.276980        1.289209         1.351408\n",
       "6             Maximum  22.806025        8.988761        23.616000\n",
       "7                Skew   3.412193        1.674045         3.334861\n",
       "8            Kurtosis  18.081247        4.367415        17.342436"
      ]
     },
     "execution_count": 19,
     "metadata": {},
     "output_type": "execute_result"
    }
   ],
   "source": [
    "d"
   ]
  },
  {
   "cell_type": "code",
   "execution_count": 9,
   "id": "c6ac9cb0",
   "metadata": {},
   "outputs": [
    {
     "data": {
      "text/plain": [
       "(array([[<AxesSubplot: title={'center': 'Histograma de Frecuencias de Datos Crudos'}>]],\n",
       "       dtype=object),\n",
       " array([[<AxesSubplot: title={'center': 'Histograma de Frecuencias de Datos Simulados'}>]],\n",
       "       dtype=object))"
      ]
     },
     "execution_count": 9,
     "metadata": {},
     "output_type": "execute_result"
    },
    {
     "data": {
      "image/png": "[encoded data removed]",
      "text/plain": [
       "<Figure size 432x288 with 1 Axes>"
      ]
     },
     "metadata": {
      "needs_background": "light"
     },
     "output_type": "display_data"
    },
    {
     "data": {
      "image/png": "[encoded data removed]",
      "text/plain": [
       "<Figure size 432x288 with 1 Axes>"
      ]
     },
     "metadata": {
      "needs_background": "light"
     },
     "output_type": "display_data"
    }
   ],
   "source": [
    "raw_data.hist(bins=data_bins), synthetic_data.hist(bins=data_bins) "
   ]
  },
  {
   "cell_type": "code",
   "execution_count": 21,
   "id": "732b6683",
   "metadata": {},
   "outputs": [
    {
     "data": {
      "text/plain": [
       "Text(0, 0.5, 'Datos Crudos')"
      ]
     },
     "execution_count": 21,
     "metadata": {},
     "output_type": "execute_result"
    },
    {
     "data": {
      "image/png": "[encoded data removed]",
      "text/plain": [
       "<Figure size 432x288 with 1 Axes>"
      ]
     },
     "metadata": {
      "needs_background": "light"
     },
     "output_type": "display_data"
    }
   ],
   "source": [
    "import matplotlib.pyplot as plt\n",
    "plt.plot(syn_p, data_p)\n",
    "plt.plot()\n",
    "plt.grid()\n",
    "plt.title(\"Gráfico Percentil-Percentil\")\n",
    "plt.xlabel(\"Datos Sintéticos\")\n",
    "plt.ylabel(\"Datos Crudos\")"
   ]
  },
  {
   "cell_type": "code",
   "execution_count": 11,
   "id": "9d8468e3",
   "metadata": {},
   "outputs": [
    {
     "data": {
      "text/plain": [
       "(Histograma de Frecuencias de Datos Crudos    9.462631\n",
       " dtype: float64,\n",
       " Histograma de Frecuencias de Datos Simulados    8.257303\n",
       " dtype: float64)"
      ]
     },
     "execution_count": 11,
     "metadata": {},
     "output_type": "execute_result"
    }
   ],
   "source": [
    "type(data_stats)\n",
    "d = {\"raw_data\": data_stats[0], \"synthetic_data\":synt_stats[0]}\n",
    "pd.DataFrame(d)\n",
    "raw_data.kurtosis(), synthetic_data.kurtosis()"
   ]
  }
 ],
 "metadata": {
  "kernelspec": {
   "display_name": "Python 3 (ipykernel)",
   "language": "python",
   "name": "python3"
  },
  "language_info": {
   "codemirror_mode": {
    "name": "ipython",
    "version": 3
   },
   "file_extension": ".py",
   "mimetype": "text/x-python",
   "name": "python",
   "nbconvert_exporter": "python",
   "pygments_lexer": "ipython3",
   "version": "3.9.13"
  }
 },
 "nbformat": 4,
 "nbformat_minor": 5
}
